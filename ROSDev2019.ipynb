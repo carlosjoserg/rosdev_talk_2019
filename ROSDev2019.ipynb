{
 "cells": [
  {
   "cell_type": "markdown",
   "metadata": {},
   "source": [
    "# ROSDev 2019\n",
    "\n",
    "### Tips on (with no specific order):\n",
    "\n",
    "1. How to setup different robots in simulation using ros-controls\n",
    "2. How to use and create custom gazebo_ros plugins\n",
    "3. How to optimize the simulation from the model point of view\n",
    "4. Namespaces and launch files\n",
    "\n",
    "### Typical use cases of a simulation\n",
    "\n",
    "- Safety check.. i.e. test whether any change in your algorithms have some problems without breaking anything\n",
    "- Quality check.. i.e. whether any change in your codebase has some effect on the production cycle time, or the battery misuse.. it's a pity that Luca talked about PCl filters and not functionality tests..\n",
    "- Generating data to feed machine learning knowledge\n",
    "- Aid the mechanical design.. I got a master student that used gazebo to test whether his idea of a car with som helix would work at all before even building it\n",
    "- Develop algorithms in remote, without having the need\n",
    "- And nowadays, as a support for selling.. if you see two ads of similar robots, where the motion of one are like faked, you konw, like bouncing at a different acceleration than gravity, and the other one is done through a simulation.. don't you think you would trust more to the one that is more phisycally plausible?"
   ]
  },
  {
   "cell_type": "markdown",
   "metadata": {},
   "source": [
    "# Chess Lab\n",
    "\n",
    "A chess board with simplified pieces marked with aruco markers, two UR3 arms equipped with two robotiq grippers, and two realsense cameras. The combination of the robotic components are very common in universities and research center. The use of markers allows to have a simple but comprehensive sense-plan-actuate example with external sync (one player must wait for the other to finish the play to move), for educational or challenge purposes.\n",
    "\n",
    "![sim](images/sim.png)![real](images/real.jpg)"
   ]
  },
  {
   "cell_type": "markdown",
   "metadata": {},
   "source": [
    "## Init and Test\n",
    "\n",
    "The `main` package is called `chesslab_setup`. Within you will find configuration, launch, and model files. Mostly integrating files from other packages.\n",
    "\n",
    "There is a `dashboard.launch.xml` that contains all modules that are to be used. The `xml` extension is just to avoid the autocompletion in the terminal. You might think of it as a library of things you can do. Almost everything is turned OFF by default.\n",
    "\n",
    "So let's try for instance to load the cell without cameras by typing this on a terminal:\n",
    "\n",
    "``` sh\n",
    "roslaunch chesslab_setup no_cameras_sim.launch\n",
    "```\n",
    "\n",
    "REMINDER: To use it on the real scenario, you need to follow the steps in the [continuous integration file](~/catkin_ws/src/ros1819-final-project/bitbucket-pipelines.yml), and also system configura\n",
    "\n",
    "And let's try to move both robots:"
   ]
  },
  {
   "cell_type": "code",
   "execution_count": null,
   "metadata": {
    "collapsed": true
   },
   "outputs": [],
   "source": [
    "import rospy\n",
    "\n",
    "import actionlib\n",
    "\n",
    "from control_msgs.msg import (\n",
    "    FollowJointTrajectoryAction,\n",
    "    FollowJointTrajectoryGoal,\n",
    ")\n",
    "from trajectory_msgs.msg import (\n",
    "    JointTrajectoryPoint,\n",
    ")\n",
    "\n",
    "\n",
    "rospy.init_node(\"trajectory_client\")\n",
    "\n",
    "\n",
    "action_name_A=\"/team_A_arm/joint_trajectory_controller/follow_joint_trajectory\"\n",
    "\n",
    "client_A = actionlib.SimpleActionClient(action_name_A, FollowJointTrajectoryAction)\n",
    "client_A.wait_for_server(timeout=rospy.Duration(10.0))\n",
    "\n",
    "joints_A = ['team_A_shoulder_pan_joint','team_A_shoulder_lift_joint','team_A_elbow_joint','team_A_wrist_1_joint','team_A_wrist_2_joint','team_A_wrist_3_joint']\n",
    "\n",
    "\n",
    "action_name_B=\"/team_B_arm/joint_trajectory_controller/follow_joint_trajectory\"\n",
    "\n",
    "client_B = actionlib.SimpleActionClient(action_name_B, FollowJointTrajectoryAction)\n",
    "client_B.wait_for_server(timeout=rospy.Duration(10.0))\n",
    "\n",
    "joints_B =['team_B_shoulder_pan_joint','team_B_shoulder_lift_joint','team_B_elbow_joint','team_B_wrist_1_joint','team_B_wrist_2_joint','team_B_wrist_3_joint']\n",
    "\n",
    "\n",
    "point1 = JointTrajectoryPoint()\n",
    "point1.positions = [-1.3,0.0,-1.8,0.3,0.1,0]\n",
    "point1.time_from_start = rospy.Duration(2.0)\n",
    "\n",
    "point2 = JointTrajectoryPoint()\n",
    "point2.positions = [-1.3,-0.3,-1.8,0.3,0.7,0]\n",
    "point2.time_from_start = rospy.Duration(5.0)\n",
    "\n",
    "\n",
    "goal_A = FollowJointTrajectoryGoal()\n",
    "goal_A.trajectory.joint_names = joints_A\n",
    "goal_A.trajectory.header.stamp = rospy.Time.now()+rospy.Duration(0.1)\n",
    "goal_A.trajectory.points.append(point1)\n",
    "goal_A.trajectory.points.append(point2)\n",
    "\n",
    "goal_B = FollowJointTrajectoryGoal()\n",
    "goal_B.trajectory.joint_names = joints_B\n",
    "goal_B.trajectory.header.stamp = rospy.Time.now()+rospy.Duration(0.1)\n",
    "goal_B.trajectory.points.append(point1)\n",
    "goal_B.trajectory.points.append(point2)\n",
    "\n",
    "client_A.send_goal(goal_A)\n",
    "client_B.send_goal(goal_B)\n",
    "\n",
    "client_A.wait_for_result()\n",
    "client_B.wait_for_result()\n",
    "\n",
    "print \"Trajectoy finished\""
   ]
  },
  {
   "cell_type": "markdown",
   "metadata": {},
   "source": [
    "## Gazebo Ros Control + Custom Plugins\n",
    "\n"
   ]
  },
  {
   "cell_type": "markdown",
   "metadata": {},
   "source": [
    "## Collisions\n",
    "\n"
   ]
  },
  {
   "cell_type": "markdown",
   "metadata": {},
   "source": [
    "## Launches and Namespaces\n",
    "\n"
   ]
  },
  {
   "cell_type": "markdown",
   "metadata": {},
   "source": [
    "## Machine Virtualization\n",
    "\n"
   ]
  },
  {
   "cell_type": "code",
   "execution_count": null,
   "metadata": {
    "collapsed": true
   },
   "outputs": [],
   "source": []
  }
 ],
 "metadata": {
  "kernelspec": {
   "display_name": "Python 2",
   "language": "python",
   "name": "python2"
  },
  "language_info": {
   "codemirror_mode": {
    "name": "ipython",
    "version": 2
   },
   "file_extension": ".py",
   "mimetype": "text/x-python",
   "name": "python",
   "nbconvert_exporter": "python",
   "pygments_lexer": "ipython2",
   "version": "2.7.14"
  }
 },
 "nbformat": 4,
 "nbformat_minor": 2
}
